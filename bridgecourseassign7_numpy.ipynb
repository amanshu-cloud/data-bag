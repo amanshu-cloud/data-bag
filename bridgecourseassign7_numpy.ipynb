{
  "nbformat": 4,
  "nbformat_minor": 0,
  "metadata": {
    "colab": {
      "name": "bridgecourseassign7 numpy.ipynb",
      "provenance": [],
      "collapsed_sections": [],
      "authorship_tag": "ABX9TyNFLV3slxrsnomctVpePTBT",
      "include_colab_link": true
    },
    "kernelspec": {
      "name": "python3",
      "display_name": "Python 3"
    }
  },
  "cells": [
    {
      "cell_type": "markdown",
      "metadata": {
        "id": "view-in-github",
        "colab_type": "text"
      },
      "source": [
        "<a href=\"https://colab.research.google.com/github/amanshu-cloud/python/blob/master/bridgecourseassign7_numpy.ipynb\" target=\"_parent\"><img src=\"https://colab.research.google.com/assets/colab-badge.svg\" alt=\"Open In Colab\"/></a>"
      ]
    },
    {
      "cell_type": "code",
      "metadata": {
        "id": "XIsQnTToF5UL",
        "colab_type": "code",
        "colab": {}
      },
      "source": [
        "import numpy as np\n"
      ],
      "execution_count": 0,
      "outputs": []
    },
    {
      "cell_type": "code",
      "metadata": {
        "id": "VIjLEZ2SGDit",
        "colab_type": "code",
        "colab": {}
      },
      "source": [
        "#questin 1\n",
        "def bmiCal(height,weight):\n",
        "  lowerbmi = []\n",
        "  higherbmi = []\n",
        "  for i in range(len(height)):\n",
        "    if weight[i]/height[i] < 21:\n",
        "      lowerbmi.append(weight[i]/height[i])\n",
        "    else:\n",
        "      higherbmi.append(weight[i]/height[i])\n",
        "\n",
        "  return lowerbmi,higherbmi\n",
        "\n",
        "def mean_median(lowerbmi,higherbmi):\n",
        "  lowerbmi = np.array(lowerbmi)\n",
        "  higherbmi  = np.array(higherbmi)\n",
        "  mean_lowerbmi = np.mean(lowerbmi)\n",
        "  mean_higherbmi = np.mean(higherbmi)\n",
        "  median_lowerbmi = np.median(lowerbmi)\n",
        "  median_higherbmi = np.median(higherbmi)\n",
        "\n",
        "  return mean_lowerbmi,mean_higherbmi,median_lowerbmi,median_higherbmi\n",
        "\n"
      ],
      "execution_count": 0,
      "outputs": []
    },
    {
      "cell_type": "code",
      "metadata": {
        "id": "DL9S7-NqLQRt",
        "colab_type": "code",
        "outputId": "b3ba5feb-f222-4ef7-e557-f90986a29f59",
        "colab": {
          "base_uri": "https://localhost:8080/",
          "height": 35
        }
      },
      "source": [
        "#question 3\n",
        "def add(arr1,arr2):\n",
        "  arr1=np.array(arr1)\n",
        "  arr2 = np.array(arr2)\n",
        "  return np.add(arr1,arr2)\n",
        "  \n",
        "def sub(arr1,arr2):\n",
        "  arr1= np.array(arr1)\n",
        "  arr2 = np.array(arr2)\n",
        "  return np.subtract(arr1,arr2)\n",
        "  \n",
        "\n",
        "def mul(arr1,arr2):\n",
        "  arr1=np.array(arr1)\n",
        "  arr2 = np.array(arr2)\n",
        "  return np.multiply(arr1,arr2)\n",
        "\n",
        "def determinant(arr):\n",
        "  arr = np.array(arr)\n",
        "  return np.linalg.det(arr) \n",
        "\n",
        "def inverse(arr):\n",
        "  arr = np.array(arr)\n",
        "  return np.linalg.inv(arr) \n"
      ],
      "execution_count": 0,
      "outputs": [
        {
          "output_type": "stream",
          "text": [
            "[ 4 10 18]\n"
          ],
          "name": "stdout"
        }
      ]
    },
    {
      "cell_type": "code",
      "metadata": {
        "id": "ejSFJVfI43iU",
        "colab_type": "code",
        "colab": {}
      },
      "source": [
        "#question 2\n",
        "def addpoly(arr1,arr2):\n",
        "  term_1 = []\n",
        "  term_2 = []\n",
        "  for i in range(arr1):\n",
        "    for j in range(arr2):\n",
        "\n",
        "      if arr1[i][1] is arr2[j][1]:\n",
        "        term_1.append(arr1[i][0])\n",
        "        term_2.append(arr2[j][0])\n",
        "  term_1 = np.array(term_1)\n",
        "  term_2 = np.array(term_2)\n",
        "  return np.add(term_1,term_2)\n",
        "\n",
        "def multpoly(arr1,arr2):\n",
        "  term_1 = []\n",
        "  term_2 = []\n",
        "  for i in range(arr1):\n",
        "    for j in range(arr2):\n",
        "\n",
        "      if arr1[i][1] is arr2[j][1]:\n",
        "        term_1.append(arr1[i][0])\n",
        "        term_2.append(arr2[j][0])\n",
        "  term_1 = np.array(term_1)\n",
        "  term_2 = np.array(term_2)\n",
        "  return np.multiply(term_1,term_2)\n",
        "  "
      ],
      "execution_count": 0,
      "outputs": []
    }
  ]
}