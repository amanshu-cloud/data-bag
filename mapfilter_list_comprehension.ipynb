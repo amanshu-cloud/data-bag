{
  "nbformat": 4,
  "nbformat_minor": 0,
  "metadata": {
    "colab": {
      "name": "mapfilter-list comprehension.ipynb",
      "provenance": [],
      "collapsed_sections": [],
      "authorship_tag": "ABX9TyOs6icHFT+GcAVZlL12sp9b",
      "include_colab_link": true
    },
    "kernelspec": {
      "name": "python3",
      "display_name": "Python 3"
    }
  },
  "cells": [
    {
      "cell_type": "markdown",
      "metadata": {
        "id": "view-in-github",
        "colab_type": "text"
      },
      "source": [
        "<a href=\"https://colab.research.google.com/github/amanshu-cloud/python/blob/master/mapfilter_list_comprehension.ipynb\" target=\"_parent\"><img src=\"https://colab.research.google.com/assets/colab-badge.svg\" alt=\"Open In Colab\"/></a>"
      ]
    },
    {
      "cell_type": "code",
      "metadata": {
        "id": "jbnh0atdj00S",
        "colab_type": "code",
        "colab": {}
      },
      "source": [
        "def Iseven(x):\n",
        "  return (x%2==0)\n",
        "\n",
        "def Isodd(y):\n",
        "  return (y%2!=0)\n",
        "\n",
        "def square(k):\n",
        "  return k*k\n",
        "\n",
        "def Ispytha(x):\n",
        "  return (x*x)+(y*y)==(z*z)\n",
        "\n",
        "num=[]\n",
        "for i in range(100):\n",
        "  num.append(i)\n",
        "\n",
        "squares = list(map(square,num))\n",
        "print(\"squares: \",squares)\n",
        "\n",
        "\n",
        "\n",
        "for ele in pythagoras:\n",
        "  print(ele)"
      ],
      "execution_count": 0,
      "outputs": []
    },
    {
      "cell_type": "code",
      "metadata": {
        "id": "lJF1YE8Enkhk",
        "colab_type": "code",
        "colab": {}
      },
      "source": [
        "pythagoras = [(i,j,k) for i in range(1,100) for j in range(i,100) for k in range(j,100)   if((i*i)+(j*j)==(k*k))]\n",
        "pythagoras\n",
        "\n"
      ],
      "execution_count": 0,
      "outputs": []
    },
    {
      "cell_type": "code",
      "metadata": {
        "id": "zVIEvTPupZ5s",
        "colab_type": "code",
        "outputId": "af21ea1a-8267-4eab-d389-c9a5c5504b8c",
        "colab": {
          "base_uri": "https://localhost:8080/",
          "height": 351
        }
      },
      "source": [
        "#square of odd,even and pythagoras using list comprehension\n",
        "\n",
        "square_odd = [i*i for i in range(100) if i%2==1]\n",
        "square_even = [i*i for i in range(100) if i%2==0]\n",
        "pythagoras = [(i,j,k) for i in range(1,100) for j in range(i,100) for k in range(j,100)   if((i*i)+(j*j)==(k*k))]\n",
        "\n",
        "#same using map filter \n",
        "\n",
        "sq_even = list(map(square , (filter(Iseven,num))))\n",
        "sq_odd = list(map(square,filter(Iseven,num)))\n",
        "\n",
        "nums = []\n",
        "for i in range(1,100):\n",
        "  for j in range(i,100):\n",
        "    for k in range(j,100):\n",
        "      nums.append([i,j,k])\n",
        "triplets = list(map(print,filter(Ispytha,nums)))\n",
        "\n",
        "triplets"
      ],
      "execution_count": 0,
      "outputs": [
        {
          "output_type": "error",
          "ename": "TypeError",
          "evalue": "ignored",
          "traceback": [
            "\u001b[0;31m---------------------------------------------------------------------------\u001b[0m",
            "\u001b[0;31mTypeError\u001b[0m                                 Traceback (most recent call last)",
            "\u001b[0;32m<ipython-input-4-0bf0671a659f>\u001b[0m in \u001b[0;36m<module>\u001b[0;34m()\u001b[0m\n\u001b[1;32m     14\u001b[0m     \u001b[0;32mfor\u001b[0m \u001b[0mk\u001b[0m \u001b[0;32min\u001b[0m \u001b[0mrange\u001b[0m\u001b[0;34m(\u001b[0m\u001b[0mj\u001b[0m\u001b[0;34m,\u001b[0m\u001b[0;36m100\u001b[0m\u001b[0;34m)\u001b[0m\u001b[0;34m:\u001b[0m\u001b[0;34m\u001b[0m\u001b[0;34m\u001b[0m\u001b[0m\n\u001b[1;32m     15\u001b[0m       \u001b[0mnums\u001b[0m\u001b[0;34m.\u001b[0m\u001b[0mappend\u001b[0m\u001b[0;34m(\u001b[0m\u001b[0;34m[\u001b[0m\u001b[0mi\u001b[0m\u001b[0;34m,\u001b[0m\u001b[0mj\u001b[0m\u001b[0;34m,\u001b[0m\u001b[0mk\u001b[0m\u001b[0;34m]\u001b[0m\u001b[0;34m)\u001b[0m\u001b[0;34m\u001b[0m\u001b[0;34m\u001b[0m\u001b[0m\n\u001b[0;32m---> 16\u001b[0;31m \u001b[0mtriplets\u001b[0m \u001b[0;34m=\u001b[0m \u001b[0mlist\u001b[0m\u001b[0;34m(\u001b[0m\u001b[0mmap\u001b[0m\u001b[0;34m(\u001b[0m\u001b[0mprint\u001b[0m\u001b[0;34m,\u001b[0m\u001b[0mfilter\u001b[0m\u001b[0;34m(\u001b[0m\u001b[0mIspytha\u001b[0m\u001b[0;34m,\u001b[0m\u001b[0mnums\u001b[0m\u001b[0;34m)\u001b[0m\u001b[0;34m)\u001b[0m\u001b[0;34m)\u001b[0m\u001b[0;34m\u001b[0m\u001b[0;34m\u001b[0m\u001b[0m\n\u001b[0m\u001b[1;32m     17\u001b[0m \u001b[0;34m\u001b[0m\u001b[0m\n\u001b[1;32m     18\u001b[0m \u001b[0mtriplets\u001b[0m\u001b[0;34m\u001b[0m\u001b[0;34m\u001b[0m\u001b[0m\n",
            "\u001b[0;32m<ipython-input-2-db0020be5067>\u001b[0m in \u001b[0;36mIspytha\u001b[0;34m(x)\u001b[0m\n\u001b[1;32m      9\u001b[0m \u001b[0;34m\u001b[0m\u001b[0m\n\u001b[1;32m     10\u001b[0m \u001b[0;32mdef\u001b[0m \u001b[0mIspytha\u001b[0m\u001b[0;34m(\u001b[0m\u001b[0mx\u001b[0m\u001b[0;34m)\u001b[0m\u001b[0;34m:\u001b[0m\u001b[0;34m\u001b[0m\u001b[0;34m\u001b[0m\u001b[0m\n\u001b[0;32m---> 11\u001b[0;31m   \u001b[0;32mreturn\u001b[0m \u001b[0;34m(\u001b[0m\u001b[0mx\u001b[0m\u001b[0;34m*\u001b[0m\u001b[0mx\u001b[0m\u001b[0;34m)\u001b[0m\u001b[0;34m+\u001b[0m\u001b[0;34m(\u001b[0m\u001b[0my\u001b[0m\u001b[0;34m*\u001b[0m\u001b[0my\u001b[0m\u001b[0;34m)\u001b[0m\u001b[0;34m==\u001b[0m\u001b[0;34m(\u001b[0m\u001b[0mz\u001b[0m\u001b[0;34m*\u001b[0m\u001b[0mz\u001b[0m\u001b[0;34m)\u001b[0m\u001b[0;34m\u001b[0m\u001b[0;34m\u001b[0m\u001b[0m\n\u001b[0m\u001b[1;32m     12\u001b[0m \u001b[0;34m\u001b[0m\u001b[0m\n\u001b[1;32m     13\u001b[0m \u001b[0mnum\u001b[0m\u001b[0;34m=\u001b[0m\u001b[0;34m[\u001b[0m\u001b[0;34m]\u001b[0m\u001b[0;34m\u001b[0m\u001b[0;34m\u001b[0m\u001b[0m\n",
            "\u001b[0;31mTypeError\u001b[0m: can't multiply sequence by non-int of type 'list'"
          ]
        }
      ]
    },
    {
      "cell_type": "code",
      "metadata": {
        "id": "un0dTdKYr8uW",
        "colab_type": "code",
        "colab": {
          "base_uri": "https://localhost:8080/",
          "height": 90
        },
        "outputId": "351497cd-06f9-4658-f591-1a630c1db066"
      },
      "source": [
        "def lower(mat,row,col):\n",
        "\n",
        "  for i in range(0,row):\n",
        "    for j in range(0,col):\n",
        "      if i < j:\n",
        "        print(\"0\",end = \" \")\n",
        "      else:\n",
        "        print(mat[i][j],end = \" \")\n",
        "    print(\" \")\n",
        "  \n",
        "\n",
        "\n",
        "matrix = [[1,2,3,4],\n",
        "          [4,5,6,6],\n",
        "          [7,8,9,10],\n",
        "          [1,22,33,44]]\n",
        "        \n",
        "lower(matrix,4,4)\n"
      ],
      "execution_count": 8,
      "outputs": [
        {
          "output_type": "stream",
          "text": [
            "1 0 0 0  \n",
            "4 5 0 0  \n",
            "7 8 9 0  \n",
            "1 22 33 44  \n"
          ],
          "name": "stdout"
        }
      ]
    }
  ]
}